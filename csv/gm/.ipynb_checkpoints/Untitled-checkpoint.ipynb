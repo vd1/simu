{
 "cells": [
  {
   "cell_type": "code",
   "execution_count": 16,
   "id": "d2b85aa8",
   "metadata": {},
   "outputs": [],
   "source": [
    "import glob\n",
    "import pandas as pd\n",
    "import matplotlib.pyplot as plt\n",
    "import seaborn as sns\n",
    "%matplotlib inline"
   ]
  },
  {
   "cell_type": "code",
   "execution_count": 22,
   "id": "7f458432",
   "metadata": {},
   "outputs": [
    {
     "name": "stdout",
     "output_type": "stream",
     "text": [
      "[]\n"
     ]
    }
   ],
   "source": [
    "# Get a list of all CSV files\n",
    "filemames=glob.glob('gm/gbm0.1_*.csv')\n",
    "print(filenames)"
   ]
  },
  {
   "cell_type": "code",
   "execution_count": 21,
   "id": "8f5acc6e",
   "metadata": {},
   "outputs": [
    {
     "data": {
      "text/plain": [
       "<Figure size 640x480 with 0 Axes>"
      ]
     },
     "metadata": {},
     "output_type": "display_data"
    }
   ],
   "source": [
    "plt.figure()\n",
    "\n",
    "# Loop through the files and plot\n",
    "for filename in filenames:\n",
    "    data = pd.read_csv(filename)\n",
    "    print(data.head())\n",
    "    sns.lineplot(data=data.iloc[:, 0], y=data.iloc[:, 1])\n"
   ]
  },
  {
   "cell_type": "code",
   "execution_count": 19,
   "id": "a9672a8f",
   "metadata": {},
   "outputs": [],
   "source": [
    "plt.show()"
   ]
  },
  {
   "cell_type": "code",
   "execution_count": null,
   "id": "57c123c9",
   "metadata": {},
   "outputs": [],
   "source": []
  }
 ],
 "metadata": {
  "kernelspec": {
   "display_name": "Python 3 (ipykernel)",
   "language": "python",
   "name": "python3"
  },
  "language_info": {
   "codemirror_mode": {
    "name": "ipython",
    "version": 3
   },
   "file_extension": ".py",
   "mimetype": "text/x-python",
   "name": "python",
   "nbconvert_exporter": "python",
   "pygments_lexer": "ipython3",
   "version": "3.11.3"
  }
 },
 "nbformat": 4,
 "nbformat_minor": 5
}
